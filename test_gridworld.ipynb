{
  "nbformat": 4,
  "nbformat_minor": 0,
  "metadata": {
    "colab": {
      "name": "test_gridworld.ipynb",
      "provenance": [],
      "collapsed_sections": []
    },
    "kernelspec": {
      "name": "python3",
      "display_name": "Python 3"
    }
  },
  "cells": [
    {
      "cell_type": "code",
      "metadata": {
        "id": "zCNKmXC3JjOT",
        "colab_type": "code",
        "colab": {
          "base_uri": "https://localhost:8080/",
          "height": 513
        },
        "outputId": "8f6e5234-4af6-4008-df6c-4a2b96587292"
      },
      "source": [
        "!pip3 install mushroom_rl"
      ],
      "execution_count": 1,
      "outputs": [
        {
          "output_type": "stream",
          "text": [
            "Collecting mushroom_rl\n",
            "\u001b[?25l  Downloading https://files.pythonhosted.org/packages/00/c6/8752704c263e8e20c471cf824a807370f67d70cc897ccd3ea8ec175cb2f4/mushroom_rl-1.4.0-py3-none-any.whl (171kB)\n",
            "\u001b[K     |████████████████████████████████| 174kB 3.4MB/s \n",
            "\u001b[?25hRequirement already satisfied: matplotlib in /usr/local/lib/python3.6/dist-packages (from mushroom_rl) (3.2.1)\n",
            "Requirement already satisfied: tqdm in /usr/local/lib/python3.6/dist-packages (from mushroom_rl) (4.38.0)\n",
            "Requirement already satisfied: scikit-learn in /usr/local/lib/python3.6/dist-packages (from mushroom_rl) (0.22.2.post1)\n",
            "Requirement already satisfied: opencv-python in /usr/local/lib/python3.6/dist-packages (from mushroom_rl) (4.1.2.30)\n",
            "Requirement already satisfied: joblib in /usr/local/lib/python3.6/dist-packages (from mushroom_rl) (0.14.1)\n",
            "Requirement already satisfied: torch in /usr/local/lib/python3.6/dist-packages (from mushroom_rl) (1.4.0)\n",
            "Collecting pygame\n",
            "\u001b[?25l  Downloading https://files.pythonhosted.org/packages/8e/24/ede6428359f913ed9cd1643dd5533aefeb5a2699cc95bea089de50ead586/pygame-1.9.6-cp36-cp36m-manylinux1_x86_64.whl (11.4MB)\n",
            "\u001b[K     |████████████████████████████████| 11.4MB 9.5MB/s \n",
            "\u001b[?25hRequirement already satisfied: numpy in /usr/local/lib/python3.6/dist-packages (from mushroom_rl) (1.18.2)\n",
            "Requirement already satisfied: scipy in /usr/local/lib/python3.6/dist-packages (from mushroom_rl) (1.4.1)\n",
            "Requirement already satisfied: pytest in /usr/local/lib/python3.6/dist-packages (from mushroom_rl) (3.6.4)\n",
            "Requirement already satisfied: pyparsing!=2.0.4,!=2.1.2,!=2.1.6,>=2.0.1 in /usr/local/lib/python3.6/dist-packages (from matplotlib->mushroom_rl) (2.4.7)\n",
            "Requirement already satisfied: kiwisolver>=1.0.1 in /usr/local/lib/python3.6/dist-packages (from matplotlib->mushroom_rl) (1.2.0)\n",
            "Requirement already satisfied: cycler>=0.10 in /usr/local/lib/python3.6/dist-packages (from matplotlib->mushroom_rl) (0.10.0)\n",
            "Requirement already satisfied: python-dateutil>=2.1 in /usr/local/lib/python3.6/dist-packages (from matplotlib->mushroom_rl) (2.8.1)\n",
            "Requirement already satisfied: setuptools in /usr/local/lib/python3.6/dist-packages (from pytest->mushroom_rl) (46.1.3)\n",
            "Requirement already satisfied: six>=1.10.0 in /usr/local/lib/python3.6/dist-packages (from pytest->mushroom_rl) (1.12.0)\n",
            "Requirement already satisfied: atomicwrites>=1.0 in /usr/local/lib/python3.6/dist-packages (from pytest->mushroom_rl) (1.3.0)\n",
            "Requirement already satisfied: attrs>=17.4.0 in /usr/local/lib/python3.6/dist-packages (from pytest->mushroom_rl) (19.3.0)\n",
            "Requirement already satisfied: py>=1.5.0 in /usr/local/lib/python3.6/dist-packages (from pytest->mushroom_rl) (1.8.1)\n",
            "Requirement already satisfied: pluggy<0.8,>=0.5 in /usr/local/lib/python3.6/dist-packages (from pytest->mushroom_rl) (0.7.1)\n",
            "Requirement already satisfied: more-itertools>=4.0.0 in /usr/local/lib/python3.6/dist-packages (from pytest->mushroom_rl) (8.2.0)\n",
            "Installing collected packages: pygame, mushroom-rl\n",
            "Successfully installed mushroom-rl-1.4.0 pygame-1.9.6\n"
          ],
          "name": "stdout"
        }
      ]
    },
    {
      "cell_type": "code",
      "metadata": {
        "id": "NQe1dzd3Jzrm",
        "colab_type": "code",
        "colab": {
          "base_uri": "https://localhost:8080/",
          "height": 51
        },
        "outputId": "d5a4b2b7-0a76-4553-bf6f-f365e199768a"
      },
      "source": [
        "import matplotlib\n",
        "matplotlib.use('Agg')\n",
        "\n",
        "import numpy as np\n",
        "from matplotlib import pyplot as plt\n",
        "from joblib import Parallel, delayed\n",
        "\n",
        "from mushroom_rl.algorithms.value import QLearning, DoubleQLearning,\\\n",
        "    WeightedQLearning, SpeedyQLearning, SARSA\n",
        "from mushroom_rl.core import Core\n",
        "from mushroom_rl.environments import *\n",
        "from mushroom_rl.policy import EpsGreedy\n",
        "from mushroom_rl.utils.callbacks import CollectDataset, CollectMaxQ\n",
        "from mushroom_rl.utils.dataset import parse_dataset\n",
        "from mushroom_rl.utils.parameters import ExponentialParameter"
      ],
      "execution_count": 2,
      "outputs": [
        {
          "output_type": "stream",
          "text": [
            "pygame 1.9.6\n",
            "Hello from the pygame community. https://www.pygame.org/contribute.html\n"
          ],
          "name": "stdout"
        }
      ]
    },
    {
      "cell_type": "code",
      "metadata": {
        "id": "zayPQ-_9J7ja",
        "colab_type": "code",
        "colab": {}
      },
      "source": [
        "def experiment(algorithm_class, exp):\n",
        "    np.random.seed()\n",
        "\n",
        "    # MDP\n",
        "    mdp = GridWorldVanHasselt()\n",
        "\n",
        "    # Policy\n",
        "    epsilon = ExponentialParameter(value=1, exp=.5, size=mdp.info.observation_space.size)\n",
        "    pi = EpsGreedy(epsilon=epsilon)\n",
        "\n",
        "    # Agent\n",
        "    learning_rate = ExponentialParameter(value=1, exp=exp, size=mdp.info.size)\n",
        "    algorithm_params = dict(learning_rate=learning_rate)\n",
        "    agent = algorithm_class(mdp.info, pi, **algorithm_params)\n",
        "\n",
        "    # Algorithm\n",
        "    start = mdp.convert_to_int(mdp._start, mdp._width)\n",
        "    collect_max_Q = CollectMaxQ(agent.approximator, start)\n",
        "    collect_dataset = CollectDataset()\n",
        "    callbacks = [collect_dataset, collect_max_Q]\n",
        "    core = Core(agent, mdp, callbacks)\n",
        "\n",
        "    # Train\n",
        "    core.learn(n_steps=10000, n_steps_per_fit=1, quiet=True)\n",
        "\n",
        "    _, _, reward, _, _, _ = parse_dataset(collect_dataset.get())\n",
        "    max_Qs = collect_max_Q.get()\n",
        "\n",
        "    return reward, max_Qs"
      ],
      "execution_count": 0,
      "outputs": []
    },
    {
      "cell_type": "code",
      "metadata": {
        "id": "2hZOvUcKKBEz",
        "colab_type": "code",
        "colab": {
          "base_uri": "https://localhost:8080/",
          "height": 989
        },
        "outputId": "4e0b0bfd-ab92-4d96-98cc-de2207922807"
      },
      "source": [
        "n_experiment = 10\n",
        "\n",
        "names = {1: '1', .8: '08', QLearning: 'Q', DoubleQLearning: 'DQ',\n",
        "          WeightedQLearning: 'WQ', SpeedyQLearning: 'SPQ', SARSA: 'SARSA'}\n",
        "\n",
        "#dir_name = 'TestResults/'\n",
        "for e in [1, .8]:\n",
        "    print('Exp: ', e)\n",
        "    fig = plt.figure()\n",
        "    plt.suptitle(names[e])\n",
        "    legend_labels = []\n",
        "    for a in [QLearning, DoubleQLearning, WeightedQLearning,\n",
        "              SpeedyQLearning, SARSA]:\n",
        "        print('Alg: ', names[a])\n",
        "        out = Parallel(n_jobs=-1)(\n",
        "            delayed(experiment)(a, e) for _ in range(n_experiment))\n",
        "        r = np.array([o[0] for o in out])\n",
        "        max_Qs = np.array([o[1] for o in out])\n",
        "\n",
        "        r = np.convolve(np.mean(r, 0), np.ones(100) / 100., 'valid')\n",
        "        max_Qs = np.mean(max_Qs, 0)\n",
        "\n",
        "        print(max_Qs)\n",
        "        print(r)\n",
        "        #np.save(dir_name + names[a] + '_' + names[e] + '_r.npy', r)\n",
        "        #np.save(dir_name + names[a] + '_' + names[e] + '_maxQ.npy', max_Qs)\n",
        "\n",
        "        plt.subplot(2, 1, 1)\n",
        "        plt.plot(r)\n",
        "        plt.subplot(2, 1, 2)\n",
        "        plt.plot(max_Qs)\n",
        "        legend_labels.append(names[a])\n",
        "    plt.legend(legend_labels)\n",
        "    #fig.savefig(dir_name + 'test_' + names[e] + '.png')"
      ],
      "execution_count": 6,
      "outputs": [
        {
          "output_type": "stream",
          "text": [
            "Exp:  1\n",
            "Alg:  Q\n",
            "[ 7.         10.325      10.67625    ... 14.18160214 14.18167181\n",
            " 14.18151943]\n",
            "[-1.2   -1.222 -1.266 ... -1.181 -1.159 -1.093]\n",
            "Alg:  DQ\n",
            "[ 3.          3.75        3.875      ... -3.45778095 -3.45690245\n",
            " -3.45622817]\n",
            "[-1.555 -1.533 -1.511 ... -0.515 -0.515 -0.464]\n",
            "Alg:  WQ\n"
          ],
          "name": "stdout"
        },
        {
          "output_type": "stream",
          "text": [
            "/usr/local/lib/python3.6/dist-packages/ipykernel_launcher.py:28: MatplotlibDeprecationWarning: Adding an axes using the same arguments as a previous axes currently reuses the earlier instance.  In a future version, a new instance will always be created and returned.  Meanwhile, this warning can be suppressed, and the future behavior ensured, by passing a unique label to each axes instance.\n",
            "/usr/local/lib/python3.6/dist-packages/ipykernel_launcher.py:30: MatplotlibDeprecationWarning: Adding an axes using the same arguments as a previous axes currently reuses the earlier instance.  In a future version, a new instance will always be created and returned.  Meanwhile, this warning can be suppressed, and the future behavior ensured, by passing a unique label to each axes instance.\n"
          ],
          "name": "stderr"
        },
        {
          "output_type": "stream",
          "text": [
            "[ 6.          6.849555    7.38471629 ... -1.5526372  -1.5503396\n",
            " -1.55245758]\n",
            "[-0.135 -0.201 -0.245 ... -1.286 -1.242 -1.281]\n",
            "Alg:  SPQ\n"
          ],
          "name": "stdout"
        },
        {
          "output_type": "stream",
          "text": [
            "/usr/local/lib/python3.6/dist-packages/ipykernel_launcher.py:28: MatplotlibDeprecationWarning: Adding an axes using the same arguments as a previous axes currently reuses the earlier instance.  In a future version, a new instance will always be created and returned.  Meanwhile, this warning can be suppressed, and the future behavior ensured, by passing a unique label to each axes instance.\n",
            "/usr/local/lib/python3.6/dist-packages/ipykernel_launcher.py:30: MatplotlibDeprecationWarning: Adding an axes using the same arguments as a previous axes currently reuses the earlier instance.  In a future version, a new instance will always be created and returned.  Meanwhile, this warning can be suppressed, and the future behavior ensured, by passing a unique label to each axes instance.\n"
          ],
          "name": "stderr"
        },
        {
          "output_type": "stream",
          "text": [
            "[ 6.          6.475       5.95       ... 11.81982151 11.8205875\n",
            " 11.8205875 ]\n",
            "[-0.317 -0.339 -0.273 ... -0.719 -0.653 -0.587]\n",
            "Alg:  SARSA\n"
          ],
          "name": "stdout"
        },
        {
          "output_type": "stream",
          "text": [
            "/usr/local/lib/python3.6/dist-packages/ipykernel_launcher.py:28: MatplotlibDeprecationWarning: Adding an axes using the same arguments as a previous axes currently reuses the earlier instance.  In a future version, a new instance will always be created and returned.  Meanwhile, this warning can be suppressed, and the future behavior ensured, by passing a unique label to each axes instance.\n",
            "/usr/local/lib/python3.6/dist-packages/ipykernel_launcher.py:30: MatplotlibDeprecationWarning: Adding an axes using the same arguments as a previous axes currently reuses the earlier instance.  In a future version, a new instance will always be created and returned.  Meanwhile, this warning can be suppressed, and the future behavior ensured, by passing a unique label to each axes instance.\n"
          ],
          "name": "stderr"
        },
        {
          "output_type": "stream",
          "text": [
            "[7.         8.75       8.70208333 ... 5.69288794 5.69288794 5.72722249]\n",
            "[-0.77  -0.858 -0.836 ... -0.528 -0.528 -0.479]\n",
            "Exp:  0.8\n",
            "Alg:  Q\n"
          ],
          "name": "stdout"
        },
        {
          "output_type": "stream",
          "text": [
            "/usr/local/lib/python3.6/dist-packages/ipykernel_launcher.py:28: MatplotlibDeprecationWarning: Adding an axes using the same arguments as a previous axes currently reuses the earlier instance.  In a future version, a new instance will always be created and returned.  Meanwhile, this warning can be suppressed, and the future behavior ensured, by passing a unique label to each axes instance.\n",
            "/usr/local/lib/python3.6/dist-packages/ipykernel_launcher.py:30: MatplotlibDeprecationWarning: Adding an axes using the same arguments as a previous axes currently reuses the earlier instance.  In a future version, a new instance will always be created and returned.  Meanwhile, this warning can be suppressed, and the future behavior ensured, by passing a unique label to each axes instance.\n"
          ],
          "name": "stderr"
        },
        {
          "output_type": "stream",
          "text": [
            "[ 8.          9.55919991 11.42025855 ...  5.27350515  5.27230061\n",
            "  5.27230061]\n",
            "[-1.037 -1.103 -1.191 ... -0.717 -0.739 -0.751]\n",
            "Alg:  DQ\n",
            "[ 1.5         1.5         2.         ... -1.34103163 -1.34103163\n",
            " -1.33487594]\n",
            "[-0.418 -0.357 -0.291 ... -0.171 -0.181 -0.11 ]\n",
            "Alg:  WQ\n"
          ],
          "name": "stdout"
        },
        {
          "output_type": "stream",
          "text": [
            "/usr/local/lib/python3.6/dist-packages/ipykernel_launcher.py:28: MatplotlibDeprecationWarning: Adding an axes using the same arguments as a previous axes currently reuses the earlier instance.  In a future version, a new instance will always be created and returned.  Meanwhile, this warning can be suppressed, and the future behavior ensured, by passing a unique label to each axes instance.\n",
            "/usr/local/lib/python3.6/dist-packages/ipykernel_launcher.py:30: MatplotlibDeprecationWarning: Adding an axes using the same arguments as a previous axes currently reuses the earlier instance.  In a future version, a new instance will always be created and returned.  Meanwhile, this warning can be suppressed, and the future behavior ensured, by passing a unique label to each axes instance.\n"
          ],
          "name": "stderr"
        },
        {
          "output_type": "stream",
          "text": [
            "[ 4.          5.          5.71158    ... -0.80510907 -0.80510907\n",
            " -0.80461336]\n",
            "[-0.781 -0.83  -0.786 ... -0.012  0.017 -0.005]\n",
            "Alg:  SPQ\n"
          ],
          "name": "stdout"
        },
        {
          "output_type": "stream",
          "text": [
            "/usr/local/lib/python3.6/dist-packages/ipykernel_launcher.py:28: MatplotlibDeprecationWarning: Adding an axes using the same arguments as a previous axes currently reuses the earlier instance.  In a future version, a new instance will always be created and returned.  Meanwhile, this warning can be suppressed, and the future behavior ensured, by passing a unique label to each axes instance.\n",
            "/usr/local/lib/python3.6/dist-packages/ipykernel_launcher.py:30: MatplotlibDeprecationWarning: Adding an axes using the same arguments as a previous axes currently reuses the earlier instance.  In a future version, a new instance will always be created and returned.  Meanwhile, this warning can be suppressed, and the future behavior ensured, by passing a unique label to each axes instance.\n"
          ],
          "name": "stderr"
        },
        {
          "output_type": "stream",
          "text": [
            "[7.         4.42240027 5.23160018 ... 7.38108302 7.38108302 7.38237666]\n",
            "[-0.496 -0.54  -0.496 ... -0.582 -0.692 -0.719]\n",
            "Alg:  SARSA\n"
          ],
          "name": "stdout"
        },
        {
          "output_type": "stream",
          "text": [
            "/usr/local/lib/python3.6/dist-packages/ipykernel_launcher.py:28: MatplotlibDeprecationWarning: Adding an axes using the same arguments as a previous axes currently reuses the earlier instance.  In a future version, a new instance will always be created and returned.  Meanwhile, this warning can be suppressed, and the future behavior ensured, by passing a unique label to each axes instance.\n",
            "/usr/local/lib/python3.6/dist-packages/ipykernel_launcher.py:30: MatplotlibDeprecationWarning: Adding an axes using the same arguments as a previous axes currently reuses the earlier instance.  In a future version, a new instance will always be created and returned.  Meanwhile, this warning can be suppressed, and the future behavior ensured, by passing a unique label to each axes instance.\n"
          ],
          "name": "stderr"
        },
        {
          "output_type": "stream",
          "text": [
            "[ 8.00000000e+00  8.00000000e+00  9.00000000e+00 ...  1.27498745e-02\n",
            "  4.91865586e-03 -4.98180083e-04]\n",
            "[-0.445 -0.494 -0.494 ...  0.065 -0.001 -0.018]\n"
          ],
          "name": "stdout"
        },
        {
          "output_type": "stream",
          "text": [
            "/usr/local/lib/python3.6/dist-packages/ipykernel_launcher.py:28: MatplotlibDeprecationWarning: Adding an axes using the same arguments as a previous axes currently reuses the earlier instance.  In a future version, a new instance will always be created and returned.  Meanwhile, this warning can be suppressed, and the future behavior ensured, by passing a unique label to each axes instance.\n",
            "/usr/local/lib/python3.6/dist-packages/ipykernel_launcher.py:30: MatplotlibDeprecationWarning: Adding an axes using the same arguments as a previous axes currently reuses the earlier instance.  In a future version, a new instance will always be created and returned.  Meanwhile, this warning can be suppressed, and the future behavior ensured, by passing a unique label to each axes instance.\n"
          ],
          "name": "stderr"
        }
      ]
    },
    {
      "cell_type": "code",
      "metadata": {
        "id": "53M-TM1GKmTm",
        "colab_type": "code",
        "colab": {}
      },
      "source": [
        ""
      ],
      "execution_count": 0,
      "outputs": []
    }
  ]
}